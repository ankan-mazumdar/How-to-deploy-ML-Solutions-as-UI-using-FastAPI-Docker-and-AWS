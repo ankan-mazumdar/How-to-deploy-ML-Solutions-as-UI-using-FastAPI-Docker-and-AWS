{
 "cells": [
  {
   "cell_type": "code",
   "execution_count": 2,
   "metadata": {},
   "outputs": [],
   "source": [
    "import requests\n",
    "import json"
   ]
  },
  {
   "cell_type": "markdown",
   "metadata": {},
   "source": [
    "## Local API"
   ]
  },
  {
   "cell_type": "code",
   "execution_count": 3,
   "metadata": {},
   "outputs": [],
   "source": [
    "url = 'http://127.0.0.1:8000/search'\n",
    "query = \"text embeddings simply explained\""
   ]
  },
  {
   "cell_type": "code",
   "execution_count": 4,
   "metadata": {},
   "outputs": [
    {
     "name": "stdout",
     "output_type": "stream",
     "text": [
      "CPU times: total: 15.6 ms\n",
      "Wall time: 5.06 s\n"
     ]
    }
   ],
   "source": [
    "#resoponse = requests.get(url, params={'query': query})\n",
    "param = {'query': query}\n",
    "%time response = requests.get(url, params=param)"
   ]
  },
  {
   "cell_type": "code",
   "execution_count": 5,
   "metadata": {},
   "outputs": [
    {
     "data": {
      "text/plain": [
       "{'title': ['Text Embeddings, Classification, and Semantic Search (w/ Python Code)',\n",
       "  'A Practical Introduction to Large Language Models (LLMs)',\n",
       "  'LLMs EXPLAINED in 60 seconds #ai',\n",
       "  'The Hugging Face Transformers Library | Example Code + Chatbot UI with Gradio',\n",
       "  'How to Improve LLMs with RAG (Overview + Python Code)'],\n",
       " 'video_id': ['sNa_uiqSlJo',\n",
       "  'tFHeUSJAYbE',\n",
       "  'ytmK_ErTWss',\n",
       "  'jan07gloaRg',\n",
       "  'Ylz779Op9Pw']}"
      ]
     },
     "execution_count": 5,
     "metadata": {},
     "output_type": "execute_result"
    }
   ],
   "source": [
    "json.loads(response.text)"
   ]
  },
  {
   "cell_type": "markdown",
   "metadata": {},
   "source": [
    "# (Local) Docker API\n",
    "url= 'http://0.0.0.0:80/search'\n",
    "query= \"text embeddings simply explained\""
   ]
  },
  {
   "cell_type": "code",
   "execution_count": null,
   "metadata": {},
   "outputs": [],
   "source": []
  }
 ],
 "metadata": {
  "kernelspec": {
   "display_name": "venv",
   "language": "python",
   "name": "python3"
  },
  "language_info": {
   "codemirror_mode": {
    "name": "ipython",
    "version": 3
   },
   "file_extension": ".py",
   "mimetype": "text/x-python",
   "name": "python",
   "nbconvert_exporter": "python",
   "pygments_lexer": "ipython3",
   "version": "3.12.4"
  }
 },
 "nbformat": 4,
 "nbformat_minor": 2
}
